{
 "cells": [
  {
   "cell_type": "markdown",
   "id": "c249bac0-0b6a-4e01-aafe-cadadb937fe7",
   "metadata": {},
   "source": [
    "# Stationarity in Time Series Data:\n",
    "Stationarity is a fundamental concept in time series analysis. A time series is said to be stationary if its statistical properties—such as mean, variance, and covariance—do not change over time. This is important because many time series models, including ARIMA, require the data to be stationary for reliable predictions."
   ]
  },
  {
   "cell_type": "code",
   "execution_count": null,
   "id": "5502c729-94ff-4bdd-b77b-8dfb71cd2001",
   "metadata": {},
   "outputs": [],
   "source": []
  }
 ],
 "metadata": {
  "kernelspec": {
   "display_name": "Python 3 (ipykernel)",
   "language": "python",
   "name": "python3"
  },
  "language_info": {
   "codemirror_mode": {
    "name": "ipython",
    "version": 3
   },
   "file_extension": ".py",
   "mimetype": "text/x-python",
   "name": "python",
   "nbconvert_exporter": "python",
   "pygments_lexer": "ipython3",
   "version": "3.12.4"
  }
 },
 "nbformat": 4,
 "nbformat_minor": 5
}
