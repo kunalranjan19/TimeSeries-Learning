{
 "cells": [
  {
   "cell_type": "markdown",
   "id": "a0f987c2-a626-4867-8297-e45d9eb7283e",
   "metadata": {},
   "source": [
    "# Introduction to Time Series\n",
    "- What is Time Series?\n",
    "A time series is a sequence of data points collected or recorded at regular time intervals. Unlike other datasets, time is a crucial factor in time series analysis, as past values influence future values.\n",
    "\n",
    "**Examples of Time Series Data**\n",
    "- Stock Prices (e.g., daily closing prices of Bitcoin)\n",
    "- Weather Data (e.g., temperature recorded every hour)\n",
    "- Sales Data (e.g., monthly revenue of a company)\n",
    "- Traffic Data (e.g., hourly vehicle count on a highway)\n"
   ]
  },
  {
   "cell_type": "markdown",
   "id": "6afd82ab-fe5d-4cca-93ff-cd3c6ace4058",
   "metadata": {},
   "source": [
    "# Key Components of Time Series\n",
    "A time series can be broken down into four main components:\n",
    "\n",
    "1.**Trend** – The overall direction in which the data is moving (increasing, decreasing, or stable).  \n",
    "\n",
    "    Example: The long-term rise in Tesla stock prices.  \n",
    "    \n",
    "2.**Seasonality** – Repeating patterns at fixed intervals (daily, weekly, yearly).  \n",
    "\n",
    "    Example: Ice cream sales increase in summer and decrease in winter.  \n",
    "    \n",
    "3.**Cyclic Variations** – Fluctuations that are not fixed but occur due to business or economic cycles.  \n",
    "\n",
    "    Example: Economic recessions affecting stock prices.  \n",
    "    \n",
    "4.**Residual (Irregularity/Noise)** – Random variations that cannot be explained by trend, seasonality, or cycles.  \n",
    "\n",
    "       Example: Stock price fluctuations due to unexpected news."
   ]
  },
  {
   "cell_type": "markdown",
   "id": "e89cd858-52b3-46b9-8857-fbbeaabfaf10",
   "metadata": {},
   "source": [
    "# Types of Time Series Data\n",
    "1.**Stationary Time Series** – No trend, no seasonality, constant mean and variance.  \n",
    "\n",
    "    Example: White noise signals.  \n",
    "\n",
    "2.**Non-Stationary Time Series** – Has trends, seasonality, or changing variance over time.  \n",
    "\n",
    "    Example: GDP growth over decades.  \n",
    "\n",
    "\n",
    "To apply many statistical models, we need to convert non-stationary data into stationary using techniques like differencing or log transformation."
   ]
  },
  {
   "cell_type": "markdown",
   "id": "364839c4-7d13-4db1-afdd-94924b684e4b",
   "metadata": {},
   "source": [
    "# Why Analyze Time Series?\n",
    "- Forecasting (e.g., Predicting stock prices, weather, sales trends).\n",
    "- Anomaly Detection (e.g., Fraud detection in transactions).\n",
    "- Pattern Recognition (e.g., Identifying cyclic patterns in energy consumption).\n",
    "- Financial Analysis (e.g., Risk management in trading)."
   ]
  },
  {
   "cell_type": "code",
   "execution_count": null,
   "id": "a66fafa3-6fbb-44cb-8317-beddfd12e271",
   "metadata": {},
   "outputs": [],
   "source": []
  }
 ],
 "metadata": {
  "kernelspec": {
   "display_name": "Python 3 (ipykernel)",
   "language": "python",
   "name": "python3"
  },
  "language_info": {
   "codemirror_mode": {
    "name": "ipython",
    "version": 3
   },
   "file_extension": ".py",
   "mimetype": "text/x-python",
   "name": "python",
   "nbconvert_exporter": "python",
   "pygments_lexer": "ipython3",
   "version": "3.12.4"
  }
 },
 "nbformat": 4,
 "nbformat_minor": 5
}
